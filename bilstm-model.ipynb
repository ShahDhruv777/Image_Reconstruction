{
 "cells": [
  {
   "cell_type": "code",
   "execution_count": 1,
   "id": "a7a5ff85",
   "metadata": {
    "execution": {
     "iopub.execute_input": "2023-04-16T07:43:57.039757Z",
     "iopub.status.busy": "2023-04-16T07:43:57.039352Z",
     "iopub.status.idle": "2023-04-16T07:43:57.050030Z",
     "shell.execute_reply": "2023-04-16T07:43:57.049161Z"
    },
    "id": "aPMdiGRZg3f9",
    "papermill": {
     "duration": 0.019187,
     "end_time": "2023-04-16T07:43:57.052350",
     "exception": false,
     "start_time": "2023-04-16T07:43:57.033163",
     "status": "completed"
    },
    "tags": []
   },
   "outputs": [],
   "source": [
    "training_path = '/kaggle/input/photo-reconstruction/Dataset/Training_Data'\n",
    "testing_path = '/kaggle/input/photo-reconstruction/Dataset/Testing_Data'"
   ]
  },
  {
   "cell_type": "code",
   "execution_count": 2,
   "id": "be108d56",
   "metadata": {
    "execution": {
     "iopub.execute_input": "2023-04-16T07:43:57.061292Z",
     "iopub.status.busy": "2023-04-16T07:43:57.061043Z",
     "iopub.status.idle": "2023-04-16T07:43:59.641345Z",
     "shell.execute_reply": "2023-04-16T07:43:59.640292Z"
    },
    "id": "_bgVmcIehn1P",
    "papermill": {
     "duration": 2.587718,
     "end_time": "2023-04-16T07:43:59.644048",
     "exception": false,
     "start_time": "2023-04-16T07:43:57.056330",
     "status": "completed"
    },
    "tags": []
   },
   "outputs": [],
   "source": [
    "import os\n",
    "import numpy as np\n",
    "import pandas as pd\n",
    "import matplotlib.pyplot as plt\n",
    "from PIL import Image\n",
    "# !pip install torch==1.9.0 torchvision==0.10.0 --extra-index-url https://download.pytorch.org/whl/cu102\n",
    "import torch\n",
    "import torch.nn as nn\n",
    "from torchvision.transforms import ToTensor, Compose\n",
    "from torch.utils.data import Dataset\n",
    "\n"
   ]
  },
  {
   "cell_type": "code",
   "execution_count": 3,
   "id": "b5d5a300",
   "metadata": {
    "execution": {
     "iopub.execute_input": "2023-04-16T07:43:59.654479Z",
     "iopub.status.busy": "2023-04-16T07:43:59.653304Z",
     "iopub.status.idle": "2023-04-16T07:43:59.662533Z",
     "shell.execute_reply": "2023-04-16T07:43:59.661411Z"
    },
    "id": "PnTUrxqfhthE",
    "papermill": {
     "duration": 0.016747,
     "end_time": "2023-04-16T07:43:59.665008",
     "exception": false,
     "start_time": "2023-04-16T07:43:59.648261",
     "status": "completed"
    },
    "tags": []
   },
   "outputs": [],
   "source": [
    "# Preprocessing the Dataset\n",
    "class Process_Dataset(Dataset):\n",
    "    def __init__(self, masked_directory, unmasked_directory):\n",
    "        self.transforms = Compose([ToTensor()]) # Defining transforms\n",
    "        self.unmasked_directory = unmasked_directory\n",
    "        self.masked_directory = masked_directory\n",
    "        self.filenames = os.listdir(masked_directory)\n",
    "        self.filenames.remove('masked_info.csv') # removing the masked_info.csv file\n",
    "        self.masked_info = os.path.join(self.masked_directory, 'masked_info.csv')\n",
    "    \n",
    "    def __getitem__(self, idx):\n",
    "        unmasked_path = os.path.join(self.unmasked_directory, self.filenames[idx])#getting the images\n",
    "        masked_path = os.path.join(self.masked_directory, self.filenames[idx])\n",
    "        unmasked_image = Image.open(unmasked_path).convert('RGB')#converting  it to RGB format\n",
    "        masked_image = Image.open(masked_path).convert('RGB') \n",
    "        unmasked_tensor = self.transforms(unmasked_image) # converting it to tenspors\n",
    "        masked_tensor = self.transforms(masked_image)\n",
    "        return masked_tensor, unmasked_tensor\n",
    "\n",
    "    def __len__(self):\n",
    "        return len(self.filenames) # sending the number of files"
   ]
  },
  {
   "cell_type": "code",
   "execution_count": 4,
   "id": "baa51bbe",
   "metadata": {
    "execution": {
     "iopub.execute_input": "2023-04-16T07:43:59.674278Z",
     "iopub.status.busy": "2023-04-16T07:43:59.673961Z",
     "iopub.status.idle": "2023-04-16T07:43:59.680034Z",
     "shell.execute_reply": "2023-04-16T07:43:59.679005Z"
    },
    "id": "bFX40gC4B1oq",
    "papermill": {
     "duration": 0.013355,
     "end_time": "2023-04-16T07:43:59.682270",
     "exception": false,
     "start_time": "2023-04-16T07:43:59.668915",
     "status": "completed"
    },
    "tags": []
   },
   "outputs": [],
   "source": [
    "# Creating the BiLSTM Model Class\n",
    "import torch.nn as nn\n",
    "class BiLSTM_model(nn.Module):\n",
    "    def __init__(self, size_in, size_h, layes):\n",
    "        super(BiLSTM_model, self).__init__()\n",
    "        self.lstm = nn.LSTM(size_in, size_h, layes, bidirectional=True)\n",
    "        self.fc = nn.Linear(size_h*2, size_in)\n",
    "\n",
    "    def forward(self, x):\n",
    "        output, dummy = self.lstm(x)\n",
    "        output = self.fc(output)\n",
    "        return output"
   ]
  },
  {
   "cell_type": "code",
   "execution_count": 5,
   "id": "0b890a17",
   "metadata": {
    "execution": {
     "iopub.execute_input": "2023-04-16T07:43:59.691408Z",
     "iopub.status.busy": "2023-04-16T07:43:59.690582Z",
     "iopub.status.idle": "2023-04-16T07:43:59.696117Z",
     "shell.execute_reply": "2023-04-16T07:43:59.695138Z"
    },
    "papermill": {
     "duration": 0.012168,
     "end_time": "2023-04-16T07:43:59.698327",
     "exception": false,
     "start_time": "2023-04-16T07:43:59.686159",
     "status": "completed"
    },
    "tags": []
   },
   "outputs": [],
   "source": [
    "# The Loss function for the model\n",
    "class ReconstructionLoss(nn.Module):\n",
    "    def __init__(self):\n",
    "        super(ReconstructionLoss, self).__init__()\n",
    "\n",
    "    def forward(self, X, Y):\n",
    "        return nn.MSELoss()(X, Y)"
   ]
  },
  {
   "cell_type": "code",
   "execution_count": 6,
   "id": "9ff75972",
   "metadata": {
    "execution": {
     "iopub.execute_input": "2023-04-16T07:43:59.707023Z",
     "iopub.status.busy": "2023-04-16T07:43:59.706716Z",
     "iopub.status.idle": "2023-04-16T07:43:59.747099Z",
     "shell.execute_reply": "2023-04-16T07:43:59.746044Z"
    },
    "papermill": {
     "duration": 0.047516,
     "end_time": "2023-04-16T07:43:59.749449",
     "exception": false,
     "start_time": "2023-04-16T07:43:59.701933",
     "status": "completed"
    },
    "tags": []
   },
   "outputs": [],
   "source": [
    "# making the model\n",
    "model = BiLSTM_model(size_in=256, size_h=128, layes=2)"
   ]
  },
  {
   "cell_type": "code",
   "execution_count": 7,
   "id": "3ec306dd",
   "metadata": {
    "execution": {
     "iopub.execute_input": "2023-04-16T07:43:59.758734Z",
     "iopub.status.busy": "2023-04-16T07:43:59.757829Z",
     "iopub.status.idle": "2023-04-16T07:43:59.762652Z",
     "shell.execute_reply": "2023-04-16T07:43:59.761660Z"
    },
    "papermill": {
     "duration": 0.011687,
     "end_time": "2023-04-16T07:43:59.764985",
     "exception": false,
     "start_time": "2023-04-16T07:43:59.753298",
     "status": "completed"
    },
    "tags": []
   },
   "outputs": [],
   "source": [
    "# loss function declaration\n",
    "loss_function = ReconstructionLoss()"
   ]
  },
  {
   "cell_type": "code",
   "execution_count": 8,
   "id": "1e86f7e1",
   "metadata": {
    "execution": {
     "iopub.execute_input": "2023-04-16T07:43:59.773818Z",
     "iopub.status.busy": "2023-04-16T07:43:59.772971Z",
     "iopub.status.idle": "2023-04-16T07:43:59.778026Z",
     "shell.execute_reply": "2023-04-16T07:43:59.777147Z"
    },
    "papermill": {
     "duration": 0.011574,
     "end_time": "2023-04-16T07:43:59.780096",
     "exception": false,
     "start_time": "2023-04-16T07:43:59.768522",
     "status": "completed"
    },
    "tags": []
   },
   "outputs": [],
   "source": [
    "# Setting the optimizer as Adam and learning rate 0.0008\n",
    "optimizer = torch.optim.Adam(model.parameters(), lr=0.001)"
   ]
  },
  {
   "cell_type": "code",
   "execution_count": 9,
   "id": "6fe6d6ad",
   "metadata": {
    "execution": {
     "iopub.execute_input": "2023-04-16T07:43:59.789006Z",
     "iopub.status.busy": "2023-04-16T07:43:59.788233Z",
     "iopub.status.idle": "2023-04-16T07:44:00.216342Z",
     "shell.execute_reply": "2023-04-16T07:44:00.215094Z"
    },
    "papermill": {
     "duration": 0.435755,
     "end_time": "2023-04-16T07:44:00.219510",
     "exception": false,
     "start_time": "2023-04-16T07:43:59.783755",
     "status": "completed"
    },
    "tags": []
   },
   "outputs": [],
   "source": [
    "from torch.utils.data import TensorDataset, ConcatDataset\n",
    "\n",
    "# Loading the elephant train data\n",
    "elephant_train_dataset = Process_Dataset(unmasked_directory=f\"{training_path}/Elephant/Unmasked_Train\", masked_directory=f\"{training_path}/Elephant/Masked_Train\")\n",
    "# Loading the tiger train data\n",
    "tiger_train_dataset = Process_Dataset(unmasked_directory=f\"{training_path}/Tiger/Unmasked_Train\", masked_directory=f\"{training_path}/Tiger/Masked_Train\")\n",
    "# Loading the dog train data\n",
    "dog_train_dataset = Process_Dataset(unmasked_directory=f\"{training_path}/Dog/Unmasked_Train\", masked_directory=f\"{training_path}/Dog/Masked_Train\")\n",
    "# Loading the cat train data\n",
    "cat_train_dataset = Process_Dataset(unmasked_directory=f\"{training_path}/Cat/Unmasked_Train\", masked_directory=f\"{training_path}/Cat/Masked_Train\")\n",
    "# combining all the datas\n",
    "train_dataset = ConcatDataset([cat_train_dataset, dog_train_dataset, elephant_train_dataset, tiger_train_dataset])"
   ]
  },
  {
   "cell_type": "code",
   "execution_count": 10,
   "id": "0f96179f",
   "metadata": {
    "execution": {
     "iopub.execute_input": "2023-04-16T07:44:00.229657Z",
     "iopub.status.busy": "2023-04-16T07:44:00.229291Z",
     "iopub.status.idle": "2023-04-16T07:44:00.234870Z",
     "shell.execute_reply": "2023-04-16T07:44:00.233704Z"
    },
    "id": "GDU0XKJoCPao",
    "papermill": {
     "duration": 0.013551,
     "end_time": "2023-04-16T07:44:00.237228",
     "exception": false,
     "start_time": "2023-04-16T07:44:00.223677",
     "status": "completed"
    },
    "tags": []
   },
   "outputs": [],
   "source": [
    "from torch.utils.data import DataLoader\n",
    "# loading the train dataset into DataLoader\n",
    "training_dataloader = DataLoader(train_dataset, shuffle=True)"
   ]
  },
  {
   "cell_type": "code",
   "execution_count": 11,
   "id": "59a2cb0b",
   "metadata": {
    "execution": {
     "iopub.execute_input": "2023-04-16T07:44:00.247048Z",
     "iopub.status.busy": "2023-04-16T07:44:00.246720Z",
     "iopub.status.idle": "2023-04-16T09:06:58.370601Z",
     "shell.execute_reply": "2023-04-16T09:06:58.369522Z"
    },
    "id": "KO77Df6pt96O",
    "outputId": "7f4c789d-f491-4259-fb04-7884c1fa6ea7",
    "papermill": {
     "duration": 4978.135944,
     "end_time": "2023-04-16T09:06:58.377400",
     "exception": false,
     "start_time": "2023-04-16T07:44:00.241456",
     "status": "completed"
    },
    "tags": []
   },
   "outputs": [
    {
     "name": "stdout",
     "output_type": "stream",
     "text": [
      "The epoch number is  0 and the mean squared error loss is = 129.0024037489202\n",
      "The epoch number is  1 and the mean squared error loss is = 83.17612773517612\n",
      "The epoch number is  2 and the mean squared error loss is = 74.64915110135917\n",
      "The epoch number is  3 and the mean squared error loss is = 70.4467000720324\n",
      "The epoch number is  4 and the mean squared error loss is = 67.19362693699077\n",
      "The epoch number is  5 and the mean squared error loss is = 65.16148001223337\n",
      "The epoch number is  6 and the mean squared error loss is = 63.697237180313095\n",
      "The epoch number is  7 and the mean squared error loss is = 62.31406541145407\n",
      "The epoch number is  8 and the mean squared error loss is = 60.94648845260963\n",
      "The epoch number is  9 and the mean squared error loss is = 60.029848701902665\n"
     ]
    }
   ],
   "source": [
    "# Running the epochs and training the model\n",
    "for epoch in range(10):\n",
    "    loss = 0\n",
    "    for i, (masked, unmasked) in enumerate(training_dataloader):\n",
    "        optimizer.zero_grad()\n",
    "        output = model(masked[0])\n",
    "        \n",
    "        loss_one = loss_function(output, unmasked[0])\n",
    "        loss += loss_one.item()\n",
    "        loss_one.backward()\n",
    "        optimizer.step()\n",
    "    print(f\"The epoch number is  {epoch} and the mean squared error loss is = {loss}\")\n",
    "    torch.save(model,f'/kaggle/working/model{epoch}.pth')\n"
   ]
  },
  {
   "cell_type": "code",
   "execution_count": 12,
   "id": "22c4d765",
   "metadata": {
    "execution": {
     "iopub.execute_input": "2023-04-16T09:06:58.388680Z",
     "iopub.status.busy": "2023-04-16T09:06:58.387083Z",
     "iopub.status.idle": "2023-04-16T09:06:58.397709Z",
     "shell.execute_reply": "2023-04-16T09:06:58.396778Z"
    },
    "id": "xH9EKgQg_oEI",
    "papermill": {
     "duration": 0.018066,
     "end_time": "2023-04-16T09:06:58.399938",
     "exception": false,
     "start_time": "2023-04-16T09:06:58.381872",
     "status": "completed"
    },
    "tags": []
   },
   "outputs": [],
   "source": [
    "torch.save(model,f'/kaggle/working/model.pth')"
   ]
  },
  {
   "cell_type": "code",
   "execution_count": 13,
   "id": "72333d16",
   "metadata": {
    "execution": {
     "iopub.execute_input": "2023-04-16T09:06:58.409588Z",
     "iopub.status.busy": "2023-04-16T09:06:58.409312Z",
     "iopub.status.idle": "2023-04-16T09:06:58.420116Z",
     "shell.execute_reply": "2023-04-16T09:06:58.419028Z"
    },
    "id": "2Pix63Aa_jW9",
    "papermill": {
     "duration": 0.018097,
     "end_time": "2023-04-16T09:06:58.422133",
     "exception": false,
     "start_time": "2023-04-16T09:06:58.404036",
     "status": "completed"
    },
    "tags": []
   },
   "outputs": [],
   "source": [
    "def submission_data(test_path):\n",
    "    test_mask_data = pd.read_csv(test_path + 'masked_info.csv').drop(['Unnamed: 0'],axis=1)\n",
    "    submission = []\n",
    "\n",
    "    for i in range(len(test_mask_data)):\n",
    "        filename, y1, x1, y2, x2 = test_mask_data.loc[i,]\n",
    "        print(i+1)\n",
    "        masked_image = Image.open(test_path + filename).convert('RGB')\n",
    "        masked_tensor = Compose([ToTensor()])(masked_image)\n",
    "        with torch.no_grad():\n",
    "            output = model(masked_tensor)\n",
    "        for i in range(y1 , y1+75):\n",
    "            for j in range(x1, x1+75):\n",
    "                temp1 = filename + '_' + 'box1' + '_' +  str(i) + '_' + str(j) + '_'\n",
    "                submission.append((temp1 + '0', output[2][i][j].item()))#B of output and 2 of RGB\n",
    "                submission.append((temp1 + '1', output[1][i][j].item()))#G of output and 1 of RGB\n",
    "                submission.append((temp1 + '2', output[0][i][j].item()))#R of output and 0 of RGB\n",
    "\n",
    "        for i in range(y2 , y2+75):\n",
    "            for j in range(x2, x2+75):\n",
    "                temp1 = filename + '_' + 'box2' + '_' + str(i) + '_' + str(j) + '_'\n",
    "                submission.append((temp1 + '0', output[2][i][j].item()))#B of output and 2 of RGB\n",
    "                submission.append((temp1 + '1', output[1][i][j].item()))#G of output and 1 of RGB\n",
    "                submission.append((temp1 + '2', output[0][i][j].item()))#R of output and 0 of RGB\n",
    "    df = pd.DataFrame(submission, columns=['filename_box_pixel','value'])\n",
    "    return df;"
   ]
  },
  {
   "cell_type": "code",
   "execution_count": 14,
   "id": "c58f2d06",
   "metadata": {
    "execution": {
     "iopub.execute_input": "2023-04-16T09:06:58.432133Z",
     "iopub.status.busy": "2023-04-16T09:06:58.431609Z",
     "iopub.status.idle": "2023-04-16T09:07:52.940098Z",
     "shell.execute_reply": "2023-04-16T09:07:52.939058Z"
    },
    "papermill": {
     "duration": 54.516053,
     "end_time": "2023-04-16T09:07:52.942545",
     "exception": false,
     "start_time": "2023-04-16T09:06:58.426492",
     "status": "completed"
    },
    "tags": []
   },
   "outputs": [
    {
     "name": "stdout",
     "output_type": "stream",
     "text": [
      "1\n",
      "2\n",
      "3\n",
      "4\n",
      "5\n",
      "6\n",
      "7\n",
      "8\n",
      "9\n",
      "10\n",
      "11\n",
      "12\n",
      "13\n",
      "14\n",
      "15\n",
      "16\n",
      "17\n",
      "18\n",
      "19\n",
      "20\n",
      "21\n",
      "22\n",
      "23\n",
      "24\n",
      "25\n",
      "26\n",
      "27\n",
      "28\n",
      "29\n",
      "30\n",
      "31\n",
      "32\n",
      "33\n",
      "34\n",
      "35\n",
      "36\n",
      "37\n",
      "38\n",
      "39\n",
      "40\n",
      "41\n",
      "42\n",
      "43\n",
      "44\n",
      "45\n",
      "46\n",
      "47\n",
      "48\n",
      "49\n",
      "50\n",
      "51\n",
      "52\n",
      "53\n",
      "54\n",
      "55\n",
      "56\n",
      "57\n",
      "58\n",
      "59\n",
      "60\n",
      "61\n",
      "62\n",
      "63\n",
      "64\n",
      "65\n",
      "66\n",
      "67\n",
      "68\n",
      "69\n",
      "70\n",
      "71\n",
      "72\n",
      "73\n",
      "74\n",
      "75\n",
      "76\n",
      "77\n",
      "78\n",
      "79\n",
      "80\n",
      "81\n",
      "82\n",
      "83\n",
      "84\n",
      "85\n",
      "86\n",
      "87\n",
      "88\n",
      "89\n",
      "90\n",
      "91\n",
      "92\n",
      "93\n",
      "94\n",
      "95\n",
      "96\n",
      "97\n",
      "98\n",
      "99\n",
      "100\n",
      "101\n",
      "102\n",
      "103\n",
      "104\n",
      "105\n",
      "106\n",
      "107\n",
      "108\n",
      "109\n",
      "110\n",
      "111\n",
      "112\n",
      "113\n",
      "114\n",
      "115\n",
      "116\n",
      "117\n",
      "118\n",
      "119\n",
      "120\n",
      "121\n",
      "122\n",
      "123\n",
      "124\n",
      "125\n",
      "126\n",
      "127\n",
      "128\n",
      "129\n",
      "130\n",
      "131\n",
      "132\n",
      "133\n",
      "134\n",
      "135\n",
      "136\n",
      "137\n",
      "138\n",
      "139\n",
      "140\n",
      "141\n",
      "142\n",
      "143\n",
      "144\n",
      "145\n",
      "146\n",
      "147\n",
      "148\n",
      "149\n",
      "150\n",
      "151\n",
      "152\n",
      "153\n",
      "154\n",
      "155\n",
      "156\n",
      "157\n",
      "158\n",
      "159\n",
      "160\n",
      "161\n",
      "162\n",
      "163\n",
      "164\n",
      "165\n",
      "166\n",
      "167\n",
      "168\n",
      "169\n",
      "170\n",
      "171\n",
      "172\n",
      "173\n",
      "174\n",
      "175\n",
      "176\n",
      "177\n",
      "178\n",
      "179\n",
      "180\n",
      "181\n",
      "182\n",
      "183\n",
      "184\n",
      "185\n",
      "186\n",
      "187\n",
      "188\n",
      "189\n",
      "190\n",
      "191\n",
      "192\n",
      "193\n",
      "194\n",
      "195\n",
      "196\n",
      "197\n",
      "198\n",
      "199\n",
      "200\n"
     ]
    }
   ],
   "source": [
    "test_path = \"/kaggle/input/photo-reconstruction/Dataset/Testing_Data/\"\n",
    "df = submission_data(test_path)\n",
    "output_path = '/kaggle/working/'\n",
    "df.to_csv(f\"{output_path}/submission.csv\", index = False)"
   ]
  },
  {
   "cell_type": "code",
   "execution_count": 15,
   "id": "69dc41ec",
   "metadata": {
    "execution": {
     "iopub.execute_input": "2023-04-16T09:07:52.964869Z",
     "iopub.status.busy": "2023-04-16T09:07:52.963248Z",
     "iopub.status.idle": "2023-04-16T09:07:52.977512Z",
     "shell.execute_reply": "2023-04-16T09:07:52.976371Z"
    },
    "papermill": {
     "duration": 0.027925,
     "end_time": "2023-04-16T09:07:52.980361",
     "exception": false,
     "start_time": "2023-04-16T09:07:52.952436",
     "status": "completed"
    },
    "tags": []
   },
   "outputs": [
    {
     "data": {
      "text/html": [
       "<div>\n",
       "<style scoped>\n",
       "    .dataframe tbody tr th:only-of-type {\n",
       "        vertical-align: middle;\n",
       "    }\n",
       "\n",
       "    .dataframe tbody tr th {\n",
       "        vertical-align: top;\n",
       "    }\n",
       "\n",
       "    .dataframe thead th {\n",
       "        text-align: right;\n",
       "    }\n",
       "</style>\n",
       "<table border=\"1\" class=\"dataframe\">\n",
       "  <thead>\n",
       "    <tr style=\"text-align: right;\">\n",
       "      <th></th>\n",
       "      <th>filename_box_pixel</th>\n",
       "      <th>value</th>\n",
       "    </tr>\n",
       "  </thead>\n",
       "  <tbody>\n",
       "    <tr>\n",
       "      <th>0</th>\n",
       "      <td>Tiger (1024).jpeg_box1_58_27_0</td>\n",
       "      <td>0.203640</td>\n",
       "    </tr>\n",
       "    <tr>\n",
       "      <th>1</th>\n",
       "      <td>Tiger (1024).jpeg_box1_58_27_1</td>\n",
       "      <td>0.390237</td>\n",
       "    </tr>\n",
       "    <tr>\n",
       "      <th>2</th>\n",
       "      <td>Tiger (1024).jpeg_box1_58_27_2</td>\n",
       "      <td>0.299468</td>\n",
       "    </tr>\n",
       "    <tr>\n",
       "      <th>3</th>\n",
       "      <td>Tiger (1024).jpeg_box1_58_28_0</td>\n",
       "      <td>0.205701</td>\n",
       "    </tr>\n",
       "    <tr>\n",
       "      <th>4</th>\n",
       "      <td>Tiger (1024).jpeg_box1_58_28_1</td>\n",
       "      <td>0.372379</td>\n",
       "    </tr>\n",
       "  </tbody>\n",
       "</table>\n",
       "</div>"
      ],
      "text/plain": [
       "               filename_box_pixel     value\n",
       "0  Tiger (1024).jpeg_box1_58_27_0  0.203640\n",
       "1  Tiger (1024).jpeg_box1_58_27_1  0.390237\n",
       "2  Tiger (1024).jpeg_box1_58_27_2  0.299468\n",
       "3  Tiger (1024).jpeg_box1_58_28_0  0.205701\n",
       "4  Tiger (1024).jpeg_box1_58_28_1  0.372379"
      ]
     },
     "execution_count": 15,
     "metadata": {},
     "output_type": "execute_result"
    }
   ],
   "source": [
    "df.head()"
   ]
  },
  {
   "cell_type": "code",
   "execution_count": null,
   "id": "f7dd9270",
   "metadata": {
    "papermill": {
     "duration": 0.009474,
     "end_time": "2023-04-16T09:07:52.999658",
     "exception": false,
     "start_time": "2023-04-16T09:07:52.990184",
     "status": "completed"
    },
    "tags": []
   },
   "outputs": [],
   "source": []
  },
  {
   "cell_type": "code",
   "execution_count": null,
   "id": "93116e91",
   "metadata": {
    "papermill": {
     "duration": 0.009453,
     "end_time": "2023-04-16T09:07:53.018780",
     "exception": false,
     "start_time": "2023-04-16T09:07:53.009327",
     "status": "completed"
    },
    "tags": []
   },
   "outputs": [],
   "source": []
  }
 ],
 "metadata": {
  "kernelspec": {
   "display_name": "Python 3",
   "language": "python",
   "name": "python3"
  },
  "language_info": {
   "codemirror_mode": {
    "name": "ipython",
    "version": 3
   },
   "file_extension": ".py",
   "mimetype": "text/x-python",
   "name": "python",
   "nbconvert_exporter": "python",
   "pygments_lexer": "ipython3",
   "version": "3.7.12"
  },
  "papermill": {
   "default_parameters": {},
   "duration": 5046.690038,
   "end_time": "2023-04-16T09:07:54.461168",
   "environment_variables": {},
   "exception": null,
   "input_path": "__notebook__.ipynb",
   "output_path": "__notebook__.ipynb",
   "parameters": {},
   "start_time": "2023-04-16T07:43:47.771130",
   "version": "2.4.0"
  }
 },
 "nbformat": 4,
 "nbformat_minor": 5
}
